{
 "cells": [
  {
   "cell_type": "code",
   "execution_count": 1,
   "metadata": {},
   "outputs": [
    {
     "name": "stdout",
     "output_type": "stream",
     "text": [
      "gridded C version\n"
     ]
    }
   ],
   "source": [
    "import sys\n",
    "# sys.path\n",
    "import ee\n",
    "import pprint\n",
    "from IPython.display import Image\n",
    "# from image import Image as local_model\n",
    "import openet.ssebop as local_model"
   ]
  },
  {
   "cell_type": "code",
   "execution_count": 2,
   "metadata": {},
   "outputs": [],
   "source": [
    "# ! --NotebookApp.iopub_data_rate_limit 2000000.0\n",
    "# ! NotebookApp.iopub_data_rate_limitFloat 2000000.0\n",
    "# !conda config --NotebookApp.iopub_data_rate_limit 2000000.0\n",
    "# !jupyter notebook --NotebookApp.iopub_data_rate_limit 2000000.0"
   ]
  },
  {
   "cell_type": "code",
   "execution_count": 3,
   "metadata": {},
   "outputs": [
    {
     "name": "stdout",
     "output_type": "stream",
     "text": [
      "worked\n"
     ]
    }
   ],
   "source": [
    "try:\n",
    "    ee.Initialize()\n",
    "    print('worked')\n",
    "except ee.EEException:\n",
    "    ee.Authenticate()\n",
    "    ee.Initialize()"
   ]
  },
  {
   "cell_type": "code",
   "execution_count": 4,
   "metadata": {},
   "outputs": [],
   "source": [
    "ndvi_palette = ['#EFE7E1', '#003300']\n",
    "et_palette = [\n",
    "    'DEC29B', 'E6CDA1', 'EDD9A6', 'F5E4A9', 'FFF4AD', 'C3E683', '6BCC5C', \n",
    "    '3BB369', '20998F', '1C8691', '16678A', '114982', '0B2C7A']\n",
    "image_size = 768"
   ]
  },
  {
   "cell_type": "code",
   "execution_count": 5,
   "metadata": {},
   "outputs": [],
   "source": [
    "landsat_img = ee.Image('LANDSAT/LC08/C01/T1_TOA/LC08_043035_20190715')\n",
    "\n",
    "landsat_crs = landsat_img.select('B3').projection().getInfo()['crs']\n",
    "landsat_region = landsat_img.geometry().bounds(1, 'EPSG:4326')\n",
    "landsat_dt = ee.Date(landsat_img.get('system:time_start'))"
   ]
  },
  {
   "cell_type": "code",
   "execution_count": 6,
   "metadata": {},
   "outputs": [],
   "source": [
    "# Build the SSEBop object from the Landsat image\n",
    "model_obj = local_model.Image.from_landsat_c1_toa(\n",
    "    landsat_img,\n",
    "    et_reference_source='IDAHO_EPSCOR/GRIDMET', \n",
    "    et_reference_band='etr', \n",
    "    et_reference_factor=0.85,\n",
    "    et_reference_resample='nearest',\n",
    ")"
   ]
  },
  {
   "cell_type": "code",
   "execution_count": 7,
   "metadata": {},
   "outputs": [
    {
     "name": "stdout",
     "output_type": "stream",
     "text": [
      "{'type': 'Image', 'bands': [{'id': 'ndvi', 'data_type': {'type': 'PixelType', 'precision': 'float', 'min': -1, 'max': 1}, 'dimensions': [7601, 7731], 'crs': 'EPSG:32610', 'crs_transform': [30, 0, 569085, 0, -30, 4106115]}], 'id': 'LANDSAT/LC08/C01/T1_TOA/LC08_043035_20190715', 'properties': {'system:time_start': 1563216014558, 'image_id': 'LANDSAT/LC08/C01/T1_TOA/LC08_043035_20190715', 'system:index': 'LC08_043035_20190715'}}\n"
     ]
    }
   ],
   "source": [
    "ndvi_image = model_obj.ndvi\n",
    "print(ndvi_image.getInfo())"
   ]
  },
  {
   "cell_type": "code",
   "execution_count": 8,
   "metadata": {},
   "outputs": [],
   "source": [
    "# # this might work for ndvi but not for higher processing images like SSEBop\n",
    "# image_url = model_obj.ndvi\\\n",
    "#     .getThumbURL({'min': -0.1, 'max': 0.9, 'palette': ndvi_palette, \n",
    "#                   'region': landsat_region, 'dimensions': image_size})\n",
    "# Image(image_url, embed=True, format='png')"
   ]
  },
  {
   "cell_type": "code",
   "execution_count": 9,
   "metadata": {},
   "outputs": [],
   "source": [
    "# tcorr_blended = model_obj.tcorr_gridded\n",
    "# tcorr_hot_testI = model_obj.tcorr_image_hot\n",
    "dblband_tcorr_test_III = model_obj.tcorr_gridded\n",
    "# # # print('get image tcorr \\n', tcorr_image.getInfo())\n",
    "# image_url = tcorr_image\\\n",
    "#     .getThumbURL({'min': -0.1, 'max': 0.9, 'palette': ndvi_palette, \n",
    "#                   'region': landsat_region, 'dimensions': image_size})\n",
    "# print('image url \\n', image_url)\n"
   ]
  },
  {
   "cell_type": "code",
   "execution_count": 10,
   "metadata": {},
   "outputs": [],
   "source": [
    "def ee_task_start(task, n=10):\n",
    "    \"\"\"Make an exponential backoff Earth Engine request\"\"\"\n",
    "    output = None\n",
    "    for i in range(1, n):\n",
    "        try:\n",
    "            task.start()\n",
    "            break\n",
    "        except Exception as e:\n",
    "            time.sleep(i ** 2)\n",
    "    return task"
   ]
  },
  {
   "cell_type": "code",
   "execution_count": null,
   "metadata": {},
   "outputs": [],
   "source": []
  },
  {
   "cell_type": "code",
   "execution_count": 11,
   "metadata": {},
   "outputs": [
    {
     "name": "stdout",
     "output_type": "stream",
     "text": [
      "starting\n",
      "task submitted\n"
     ]
    }
   ],
   "source": [
    "# try to export and see if the image looks like expected.\n",
    "# task = ee.batch.Export.image.toDrive(image=tcorr_image, description='CFact_TestGTE', region=landsat_region)\n",
    "task = ee.batch.Export.image.toAsset(image=dblband_tcorr_test_III , description='dblband_tcorr_test_III', assetId='users/gbrlparrish/griddedC/dblband_tcorr_test_III', region=landsat_region)\n",
    "# start the tasktest\n",
    "print('starting')\n",
    "ee_task_start(task=task)\n",
    "print('task submitted')\n",
    "# task2 = ee.batch.Export.image.toAsset(image= tcorr_rn02_hot_testI, description='tcorr_rn02_hot_testI', assetId='users/gbrlparrish/griddedC/tcorr_rn02_hot_testI', region=landsat_region)\n",
    "# # start the task\n",
    "# print('starting task 2')\n",
    "# ee_task_start(task=task2)\n",
    "# print('task 2 submitted')\n",
    "# # # "
   ]
  },
  {
   "cell_type": "code",
   "execution_count": 12,
   "metadata": {},
   "outputs": [],
   "source": [
    "# EToF = model_obj.et_fraction\n",
    "# # print(EToF.getInfo())"
   ]
  },
  {
   "cell_type": "code",
   "execution_count": 13,
   "metadata": {
    "scrolled": true
   },
   "outputs": [],
   "source": [
    "# # try to export EToF (Doesn't work. Error is \"Error: Too many input pixels per output pixel. Need 27778, but only 64 allowed.\" Like Whaaaaat)\n",
    "# task = ee.batch.Export.image.toAsset(image=EToF, description='EToF_tcorr_image_rn02hot', assetId='users/gbrlparrish/griddedC/EToF_WeightII_notSmooth', region=landsat_region)\n",
    "# # start the task\n",
    "# print('starting')\n",
    "# ee_task_start(task=task)\n",
    "# print('task submitted')\n",
    "\n",
    "# # # TODO - export as asset and then display in the notebook.\n",
    "# # # # # =========================================================================\n",
    "# # # # # Try to show EToF and it also doesn't work\n",
    "# # # image_url = model_obj.et_fraction\\\n",
    "# # #     .getThumbURL({'min': 0, 'max': 1.2, 'palette': et_palette, \n",
    "# # #                   'region': landsat_region, 'dimensions': image_size})\n",
    "# # # Image(image_url, embed=True, format='png')"
   ]
  },
  {
   "cell_type": "code",
   "execution_count": 14,
   "metadata": {},
   "outputs": [],
   "source": [
    "# ## test and examine doing a pixel count mask\n",
    "# print(tcorr_image.getInfo())"
   ]
  }
 ],
 "metadata": {
  "kernelspec": {
   "display_name": "Python 3",
   "language": "python",
   "name": "python3"
  },
  "language_info": {
   "codemirror_mode": {
    "name": "ipython",
    "version": 3
   },
   "file_extension": ".py",
   "mimetype": "text/x-python",
   "name": "python",
   "nbconvert_exporter": "python",
   "pygments_lexer": "ipython3",
   "version": "3.8.2"
  }
 },
 "nbformat": 4,
 "nbformat_minor": 4
}
