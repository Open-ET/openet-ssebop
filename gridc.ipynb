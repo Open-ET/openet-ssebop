{
 "cells": [
  {
   "cell_type": "code",
   "execution_count": 1,
   "metadata": {},
   "outputs": [],
   "source": [
    "import sys\n",
    "import time\n",
    "import ee\n",
    "import pprint\n",
    "from openet.ssebop.image import Image"
   ]
  },
  {
   "cell_type": "code",
   "execution_count": 2,
   "metadata": {},
   "outputs": [
    {
     "name": "stdout",
     "output_type": "stream",
     "text": [
      "worked\n"
     ]
    }
   ],
   "source": [
    "try:\n",
    "    ee.Initialize()\n",
    "    print('worked')\n",
    "except ee.EEException:\n",
    "    ee.Authenticate()\n",
    "    ee.Initialize()\n",
    "    print('worked second try')"
   ]
  },
  {
   "cell_type": "code",
   "execution_count": 3,
   "metadata": {},
   "outputs": [],
   "source": [
    "ndvi_palette = ['#EFE7E1', '#003300']\n",
    "et_palette = [\n",
    "    'DEC29B', 'E6CDA1', 'EDD9A6', 'F5E4A9', 'FFF4AD', 'C3E683', '6BCC5C', \n",
    "    '3BB369', '20998F', '1C8691', '16678A', '114982', '0B2C7A']\n",
    "image_size = 768"
   ]
  },
  {
   "cell_type": "code",
   "execution_count": 4,
   "metadata": {},
   "outputs": [],
   "source": [
    "def ee_task_start(task, n=10):\n",
    "    \"\"\"Make an exponential backoff Earth Engine request\"\"\"\n",
    "    output = None\n",
    "    for i in range(1, n):\n",
    "        try:\n",
    "            task.start()\n",
    "            break\n",
    "        except Exception as e:\n",
    "            time.sleep(i ** 2)\n",
    "    return task"
   ]
  },
  {
   "cell_type": "code",
   "execution_count": 5,
   "metadata": {},
   "outputs": [],
   "source": [
    "\n",
    "# landsat_id = 'LC08_021033_20150115' # Indianapolis, IN, Winter\n",
    "# landsat_id = 'LE07_021033_20150718' # Indianapolis, IN, Summer\n",
    "# landsat_id = 'LE07_028041_20150124' # RGValley, TX, Winter\n",
    "# landsat_id = 'LE07_028041_20150703' # RGValley, TX, Summer\n",
    "# landsat_id = 'LE07_032038_20150104' # West TX Winter\n",
    "# landsat_id = 'LC08_032038_20150707' # West TX Summer\n",
    "# landsat_id = 'LC08_019036_20150117' # Alpharreta GA, Winter\n",
    "# landsat_id = 'LC08_019036_20150712' # Alpharreta GA, Summer\n",
    "\n",
    "# landsat_id = 'LC08_042030_20150704' # Western Idaho Summer\n",
    "# landsat_id = 'LC08_042030_20150102' # Western Idaho Winter\n",
    "# landsat_id = 'LE07_043035_20150101' # Salinas Ca, Winter\n",
    "# landsat_id = 'LE07_043035_20150712' # Salinas Ca, Summer\n",
    "# landsat_id = 'LC08_043035_20150720' # Salinas Ca, Summer\n",
    "# landsat_id = 'LC08_044035_20150116' # Salinas Ca, Winter\n",
    "\n",
    "# image_names = ['LC08_021033_20150115','LC08_032038_20150707','LC08_019036_20150117',\n",
    "#                'LC08_019036_20150712','LC08_043035_20150720', 'LC08_044035_20150116']\n",
    "image_names = ['LC08_043035_20180610']\n",
    "image_paths = []\n",
    "for img in image_names:\n",
    "    img_lst = img.split('_')\n",
    "    root = 'LANDSAT/{}/C02/T1_L2'.format(img_lst[0])\n",
    "    img_name = f'{img_lst[0]}_{img_lst[1]}_{img_lst[2]}'\n",
    "    img_path = f'{root}/{img_name}'\n",
    "    image_paths.append(img_path)\n"
   ]
  },
  {
   "cell_type": "code",
   "execution_count": 6,
   "metadata": {},
   "outputs": [
    {
     "name": "stdout",
     "output_type": "stream",
     "text": [
      "['LANDSAT/LC08/C02/T1_L2/LC08_043035_20180610']\n"
     ]
    }
   ],
   "source": [
    "print(image_paths)"
   ]
  },
  {
   "cell_type": "code",
   "execution_count": 7,
   "metadata": {},
   "outputs": [
    {
     "name": "stdout",
     "output_type": "stream",
     "text": [
      "doing LC08_043035_20180610\n",
      "starting tcorr export\n",
      "task submitted\n",
      "starting ETf export\n",
      "task submitted\n"
     ]
    }
   ],
   "source": [
    "for n, p in zip(image_names, image_paths):\n",
    "    # landsat images\n",
    "    print(f'doing {n}')\n",
    "    landsat_img = ee.Image(p)\n",
    "    landsat_crs = landsat_img.select('SR_B3').projection().getInfo()['crs']\n",
    "    landsat_region = landsat_img.geometry().bounds(1, 'EPSG:4326')\n",
    "    landsat_dt = ee.Date(landsat_img.get('system:time_start'))\n",
    "    # Build the SSEBop object from the Landsat image\n",
    "#     test = Image(None)\n",
    "#     print(test.salutations)\n",
    "    model_obj = Image.from_landsat_c2_sr(\n",
    "        landsat_img,\n",
    "        et_reference_source='IDAHO_EPSCOR/GRIDMET', \n",
    "        et_reference_band='etr', \n",
    "        et_reference_factor=0.85,\n",
    "        et_reference_resample='nearest',\n",
    "        tcorr_source='GRIDDED_COLD',\n",
    "    )\n",
    "    # Initiate the Lazy Attributes\n",
    "    tcorr = model_obj.tcorr_gridded_cold\n",
    "    ETf = model_obj.et_fraction\n",
    "    \n",
    "    name_root = f'Tcorr_26032020_rn64_{n}'\n",
    "    tcorr_name =  f'{name_root}'\n",
    "    etf_name = f'etf_{name_root}'\n",
    "    eta_name = f'eta_{name_root}'\n",
    "    \n",
    "    task = ee.batch.Export.image.toAsset(image=tcorr , description=tcorr_name, assetId=f'users/gbrlparrish/gridc_march/{tcorr_name}', region=landsat_region)\n",
    "    print('starting tcorr export')\n",
    "    \n",
    "    # TODO - does the Tcorr \n",
    "    ee_task_start(task=task)\n",
    "    print('task submitted')\n",
    "    task = ee.batch.Export.image.toAsset(image=ETf, description=etf_name, assetId=f'users/gbrlparrish/gridc_march/{etf_name}', region=landsat_region)\n",
    "    \n",
    "    # start the task\n",
    "    print('starting ETf export')\n",
    "    ee_task_start(task=task)\n",
    "    print('task submitted')"
   ]
  },
  {
   "cell_type": "code",
   "execution_count": 8,
   "metadata": {},
   "outputs": [],
   "source": [
    "\n",
    "# # matching ETo image\n",
    "# eto_img = ee.Image('projects/usgs-ssebop/pet/gridmet_median_v1/doy196')\n"
   ]
  },
  {
   "cell_type": "code",
   "execution_count": 9,
   "metadata": {},
   "outputs": [],
   "source": [
    "# ndvi_image = model_obj.ndvi\n",
    "# print(ndvi_image.getInfo())"
   ]
  },
  {
   "cell_type": "code",
   "execution_count": 10,
   "metadata": {},
   "outputs": [],
   "source": [
    "# # === USER ====\n",
    "# attempt = 'I'\n",
    "# level = 'GS_Alg'\n",
    "# name_root = f'rn{level}_vers{attempt}'\n",
    "\n",
    "# tcorr_name =  f'a_test_tcorr_{name_root}'\n",
    "# etf_name = f'a_test_etf_{name_root}'\n",
    "# eta_name = f'a_test_eta_{name_root}'"
   ]
  },
  {
   "cell_type": "code",
   "execution_count": null,
   "metadata": {},
   "outputs": [],
   "source": []
  },
  {
   "cell_type": "code",
   "execution_count": null,
   "metadata": {},
   "outputs": [],
   "source": []
  },
  {
   "cell_type": "code",
   "execution_count": 11,
   "metadata": {},
   "outputs": [],
   "source": [
    "# # try to export and see if the image looks like expected.\n",
    "# # task = ee.batch.Export.image.toDrive(image=tcorr_image, description='CFact_TestGTE', region=landsat_region)\n",
    "# task = ee.batch.Export.image.toAsset(image=tcorr , description=tcorr_name, assetId=f'users/gbrlparrish/gridCForMattS/{tcorr_name}', region=landsat_region)\n",
    "# # start the tasktest\n",
    "# print('starting')\n",
    "# ee_task_start(task=task)\n",
    "# print('task submitted')\n",
    "# # task2 = ee.batch.Export.image.toAsset(image= tcorr_rn02_hot_testI, description='tcorr_rn02_hot_testI', assetId='users/gbrlparrish/griddedC/tcorr_rn02_hot_testI', region=landsat_region)\n",
    "# # # start the task\n",
    "# # print('starting task 2')\n",
    "# # ee_task_start(task=task2)\n",
    "# # print('task 2 submitted')\n",
    "# # # # "
   ]
  },
  {
   "cell_type": "code",
   "execution_count": 12,
   "metadata": {},
   "outputs": [],
   "source": [
    "# ETf = model_obj.et_fraction\n",
    "# # make ETa by multiplying by gridmet ETo v1\n",
    "# ETa = ETf.multiply(eto_img)"
   ]
  },
  {
   "cell_type": "code",
   "execution_count": 13,
   "metadata": {
    "scrolled": true
   },
   "outputs": [],
   "source": [
    "# # try to export EToF (Doesn't work. Error is \"Error: Too many input pixels per output pixel. Need 27778, but only 64 allowed.\" Like Whaaaaat)\n",
    "# task = ee.batch.Export.image.toAsset(image=ETf, description=etf_name, assetId=f'users/gbrlparrish/griddedC/{etf_name}', region=landsat_region)\n",
    "# # start the task\n",
    "# print('starting')\n",
    "# ee_task_start(task=task)\n",
    "# print('task submitted')\n",
    "# # ============================\n",
    "# task = ee.batch.Export.image.toAsset(image=ETa, description=eta_name, assetId=f'users/gbrlparrish/griddedC/{eta_name}', region=landsat_region)\n",
    "# # start the task\n",
    "# print('starting')\n",
    "# ee_task_start(task=task)\n",
    "# print('task submitted')\n",
    "\n",
    "# # # TODO - export as asset and then display in the notebook.\n",
    "# # # # # =========================================================================\n",
    "# # # # # Try to show EToF and it also doesn't work\n",
    "# # # image_url = model_obj.et_fraction\\\n",
    "# # #     .getThumbURL({'min': 0, 'max': 1.2, 'palette': et_palette, \n",
    "# # #                   'region': landsat_region, 'dimensions': image_size})\n",
    "# # # Image(image_url, embed=True, format='png')"
   ]
  },
  {
   "cell_type": "code",
   "execution_count": null,
   "metadata": {},
   "outputs": [],
   "source": []
  },
  {
   "cell_type": "code",
   "execution_count": null,
   "metadata": {},
   "outputs": [],
   "source": []
  }
 ],
 "metadata": {
  "kernelspec": {
   "display_name": "Python 3",
   "language": "python",
   "name": "python3"
  },
  "language_info": {
   "codemirror_mode": {
    "name": "ipython",
    "version": 3
   },
   "file_extension": ".py",
   "mimetype": "text/x-python",
   "name": "python",
   "nbconvert_exporter": "python",
   "pygments_lexer": "ipython3",
   "version": "3.8.2"
  }
 },
 "nbformat": 4,
 "nbformat_minor": 4
}
