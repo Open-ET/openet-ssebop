{
 "cells": [
  {
   "cell_type": "markdown",
   "metadata": {},
   "source": [
    "# OpenET SSEBop\n",
    "## Collection \"Interpolate\" Examples"
   ]
  },
  {
   "cell_type": "code",
   "execution_count": 1,
   "metadata": {},
   "outputs": [],
   "source": [
    "import datetime\n",
    "import pprint\n",
    "\n",
    "import ee\n",
    "import pandas as pd\n",
    "\n",
    "from IPython.display import Image\n",
    "import openet.ssebop as model\n",
    "\n",
    "ee.Initialize()"
   ]
  },
  {
   "cell_type": "code",
   "execution_count": 2,
   "metadata": {},
   "outputs": [],
   "source": [
    "ndvi_palette = ['#EFE7E1', '#003300']\n",
    "et_palette = [\n",
    "    'DEC29B', 'E6CDA1', 'EDD9A6', 'F5E4A9', 'FFF4AD', 'C3E683', '6BCC5C', \n",
    "    '3BB369', '20998F', '1C8691', '16678A', '114982', '0B2C7A']\n",
    "\n",
    "image_size = 768\n",
    "landsat_cs = 30"
   ]
  },
  {
   "cell_type": "markdown",
   "metadata": {},
   "source": [
    "## Input parameters"
   ]
  },
  {
   "cell_type": "code",
   "execution_count": 3,
   "metadata": {},
   "outputs": [],
   "source": [
    "collections = ['LANDSAT/LC08/C01/T1_TOA']\n",
    "\n",
    "# et_reference_source = 'projects/climate-engine/cimis/daily'\n",
    "et_reference_source = 'projects/usgs-ssebop/pet/gridmet_median_v1'\n",
    "et_reference_band = 'etr'\n",
    "et_reference_factor = 1.0\n",
    "et_reference_resample = 'nearest'\n",
    "et_reference_date_type = 'DOY'\n",
    "# et_reference_source = 'IDAHO_EPSCOR/GRIDMET'\n",
    "# et_reference_band = 'etr'\n",
    "# et_reference_factor = 0.85\n",
    "# et_reference_resample = 'nearest'\n",
    "\n",
    "# Date range you want to aggregate ET over\n",
    "# End date is inclusive (like filterDate() calls)\n",
    "start_date = '2017-07-01'\n",
    "end_date = '2017-08-01'\n",
    "\n",
    "# Only keep images with an average cloud cover less than\n",
    "# Cloud cover filter parameter is not being passed in (yet)\n",
    "cloud_cover = 70\n",
    "\n",
    "# Number of extra days (at start and end) to include in interpolation\n",
    "interp_days = 32\n",
    "# Interpolation method - currently only LINEAR is supported\n",
    "interp_method = 'LINEAR'\n",
    "\n",
    "test_xy = [-121.5265, 38.7399]\n",
    "test_point = ee.Geometry.Point(test_xy)\n",
    "\n",
    "# study_area = ee.Geometry.Rectangle(-122.00, 38.60, -121.00, 39.0)\n",
    "study_area = ee.Geometry.Rectangle(\n",
    "    test_xy[0] - 0.08, test_xy[1] - 0.04, \n",
    "    test_xy[0] + 0.08, test_xy[1] + 0.04)\n",
    "study_region = study_area.bounds(1, 'EPSG:4326')\n",
    "study_crs = 'EPSG:32610'"
   ]
  },
  {
   "cell_type": "markdown",
   "metadata": {},
   "source": [
    "## Build the collection object"
   ]
  },
  {
   "cell_type": "code",
   "execution_count": 4,
   "metadata": {},
   "outputs": [],
   "source": [
    "model_obj = model.Collection(\n",
    "    collections=collections,\n",
    "    et_reference_source=et_reference_source, \n",
    "    et_reference_band=et_reference_band,\n",
    "    et_reference_factor=et_reference_factor,\n",
    "    et_reference_resample=et_reference_resample,\n",
    "    et_reference_date_type = et_reference_date_type,\n",
    "    start_date=start_date,\n",
    "    end_date=end_date,\n",
    "    geometry=test_point,\n",
    "    cloud_cover_max=70,\n",
    "    model_args={'tcorr_source': 0.99}\n",
    "    # filter_args={},\n",
    ")"
   ]
  },
  {
   "cell_type": "markdown",
   "metadata": {},
   "source": [
    "This isn't returning the images used for interpolation.  Should it?"
   ]
  },
  {
   "cell_type": "code",
   "execution_count": 5,
   "metadata": {},
   "outputs": [
    {
     "name": "stdout",
     "output_type": "stream",
     "text": [
      "['LANDSAT/LC08/C01/T1_TOA/LC08_044033_20170716']\n"
     ]
    }
   ],
   "source": [
    "pprint.pprint(model_obj.get_image_ids())"
   ]
  },
  {
   "cell_type": "code",
   "execution_count": 6,
   "metadata": {},
   "outputs": [],
   "source": [
    "def get_region_df(info):\n",
    "    \"\"\"Convert the output of getRegions to a pandas dataframe\"\"\"\n",
    "    col_dict = {}\n",
    "    info_dict = {}\n",
    "    for i, k in enumerate(info[0][4:]):\n",
    "        col_dict[k] = i+4\n",
    "        info_dict[k] = {}\n",
    "        \n",
    "    for row in info[1:]:\n",
    "        date = datetime.datetime.utcfromtimestamp(row[3] / 1000.0).strftime('%Y-%m-%d')\n",
    "        for k, v in col_dict.items():\n",
    "            info_dict[k][date] = row[col_dict[k]]\n",
    "            \n",
    "    return pd.DataFrame.from_dict(info_dict)"
   ]
  },
  {
   "cell_type": "markdown",
   "metadata": {},
   "source": [
    "## Interpolate Daily ET"
   ]
  },
  {
   "cell_type": "code",
   "execution_count": 7,
   "metadata": {},
   "outputs": [
    {
     "name": "stdout",
     "output_type": "stream",
     "text": [
      "            et_reference\n",
      "2017-07-01      8.750780\n",
      "2017-07-02      8.985552\n",
      "2017-07-03      9.124432\n",
      "2017-07-04      9.059896\n",
      "2017-07-05      8.948065\n",
      "2017-07-06      9.142155\n",
      "2017-07-07      9.162968\n",
      "2017-07-08      9.313854\n",
      "2017-07-09      9.429415\n",
      "2017-07-10      9.468430\n",
      "2017-07-11      9.298468\n",
      "2017-07-12      9.256013\n",
      "2017-07-13      9.417242\n",
      "2017-07-14      9.451098\n",
      "2017-07-15      9.774522\n",
      "2017-07-16      9.721956\n",
      "2017-07-17      9.407862\n",
      "2017-07-18      9.357646\n",
      "2017-07-19      9.454647\n",
      "2017-07-20      9.400379\n",
      "2017-07-21      9.467653\n",
      "2017-07-22      9.590332\n",
      "2017-07-23      9.208388\n",
      "2017-07-24      9.689781\n",
      "2017-07-25      9.418958\n",
      "2017-07-26      9.564580\n",
      "2017-07-27      9.993216\n",
      "2017-07-28     10.194906\n",
      "2017-07-29      9.614853\n",
      "2017-07-30      9.595454\n",
      "2017-07-31      9.300901\n"
     ]
    }
   ],
   "source": [
    "daily_coll = model_obj.interpolate(\n",
    "    t_interval='daily', \n",
    "#     variables=['et', 'et_reference', 'et_fraction'], \n",
    "    variables= ['et_reference'],\n",
    "    interp_method=interp_method,\n",
    "    interp_days=interp_days,\n",
    ")\n",
    "\n",
    "# # This raises an EE memory error\n",
    "daily_df = get_region_df(daily_coll.getRegion(test_point, scale=30).getInfo())\n",
    "pprint.pprint(daily_df)\n",
    "# print('')\n",
    "# pprint.pprint(daily_df[['et', 'et_reference']].sum())"
   ]
  },
  {
   "cell_type": "markdown",
   "metadata": {},
   "source": [
    "## Interpolate Monthly ET"
   ]
  },
  {
   "cell_type": "code",
   "execution_count": 8,
   "metadata": {},
   "outputs": [
    {
     "name": "stdout",
     "output_type": "stream",
     "text": [
      "            et_reference\n",
      "2017-07-01    291.564392\n"
     ]
    }
   ],
   "source": [
    "monthly_coll = model_obj.interpolate(\n",
    "    t_interval='monthly', \n",
    "#     variables=['et', 'et_reference', 'et_fraction'], \n",
    "    variables= ['et_reference'],\n",
    "    interp_method=interp_method,\n",
    "    interp_days=interp_days,\n",
    ")\n",
    "monthly_df = get_region_df(monthly_coll.getRegion(test_point, scale=30).getInfo())\n",
    "pprint.pprint(monthly_df)"
   ]
  },
  {
   "cell_type": "markdown",
   "metadata": {},
   "source": [
    "## Sum of Daily ET (for one month)"
   ]
  },
  {
   "cell_type": "code",
   "execution_count": 9,
   "metadata": {},
   "outputs": [],
   "source": [
    "# image_url = ee.Image(daily_coll.select(['et']).sum())\\\n",
    "#     .reproject(crs=study_crs, scale=100)\\\n",
    "#     .getThumbURL({'min': 0.0, 'max': 300, 'palette': et_palette, \n",
    "#                   'region': study_region, 'dimensions': image_size})\n",
    "# Image(image_url, embed=True, format='png')"
   ]
  },
  {
   "cell_type": "markdown",
   "metadata": {},
   "source": [
    "## Monthly ET (for one month)"
   ]
  },
  {
   "cell_type": "code",
   "execution_count": 10,
   "metadata": {},
   "outputs": [],
   "source": [
    "# image_url = ee.Image(monthly_coll.select(['et']).sum())\\\n",
    "#     .reproject(crs=study_crs, scale=100)\\\n",
    "#     .getThumbURL({'min': 0.0, 'max': 350, 'palette': et_palette, \n",
    "#                   'region': study_region, 'dimensions': image_size})\n",
    "# Image(image_url, embed=True, format='png')"
   ]
  },
  {
   "cell_type": "markdown",
   "metadata": {},
   "source": [
    "## Monthly ETr (for one month)"
   ]
  },
  {
   "cell_type": "code",
   "execution_count": 11,
   "metadata": {},
   "outputs": [
    {
     "data": {
      "image/png": "[encoded data removed]",
      "text/plain": [
       "<IPython.core.display.Image object>"
      ]
     },
     "execution_count": 11,
     "metadata": {},
     "output_type": "execute_result"
    }
   ],
   "source": [
    "image_url = ee.Image(monthly_coll.select(['et_reference']).sum())\\\n",
    "    .reproject(crs=study_crs, scale=100)\\\n",
    "    .getThumbURL({'min': 0.0, 'max': 350, 'palette': et_palette, \n",
    "                  'region': study_region, 'dimensions': image_size})\n",
    "Image(image_url, embed=True, format='png')"
   ]
  },
  {
   "cell_type": "code",
   "execution_count": null,
   "metadata": {},
   "outputs": [],
   "source": []
  },
  {
   "cell_type": "code",
   "execution_count": null,
   "metadata": {},
   "outputs": [],
   "source": []
  }
 ],
 "metadata": {
  "kernelspec": {
   "display_name": "Python 3",
   "language": "python",
   "name": "python3"
  },
  "language_info": {
   "codemirror_mode": {
    "name": "ipython",
    "version": 3
   },
   "file_extension": ".py",
   "mimetype": "text/x-python",
   "name": "python",
   "nbconvert_exporter": "python",
   "pygments_lexer": "ipython3",
   "version": "3.6.10"
  },
  "pycharm": {
   "stem_cell": {
    "cell_type": "raw",
    "metadata": {
     "collapsed": false
    },
    "source": []
   }
  }
 },
 "nbformat": 4,
 "nbformat_minor": 4
}
