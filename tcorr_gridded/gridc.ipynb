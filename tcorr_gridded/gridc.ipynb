{
 "cells": [
  {
   "cell_type": "code",
   "execution_count": 1,
   "metadata": {},
   "outputs": [],
   "source": [
    "import sys\n",
    "# sys.path\n",
    "import time\n",
    "import ee\n",
    "import pprint\n",
    "from IPython.display import Image\n",
    "# from image import Image as local_model\n",
    "import openet.ssebop as local_model"
   ]
  },
  {
   "cell_type": "code",
   "execution_count": 2,
   "metadata": {},
   "outputs": [
    {
     "name": "stdout",
     "output_type": "stream",
     "text": [
      "worked\n"
     ]
    }
   ],
   "source": [
    "try:\n",
    "    ee.Initialize()\n",
    "    print('worked')\n",
    "except ee.EEException:\n",
    "    ee.Authenticate()\n",
    "    ee.Initialize()\n",
    "    print('worked second try')"
   ]
  },
  {
   "cell_type": "code",
   "execution_count": 3,
   "metadata": {},
   "outputs": [],
   "source": [
    "ndvi_palette = ['#EFE7E1', '#003300']\n",
    "et_palette = [\n",
    "    'DEC29B', 'E6CDA1', 'EDD9A6', 'F5E4A9', 'FFF4AD', 'C3E683', '6BCC5C', \n",
    "    '3BB369', '20998F', '1C8691', '16678A', '114982', '0B2C7A']\n",
    "image_size = 768"
   ]
  },
  {
   "cell_type": "code",
   "execution_count": 4,
   "metadata": {},
   "outputs": [],
   "source": [
    "def ee_task_start(task, n=10):\n",
    "    \"\"\"Make an exponential backoff Earth Engine request\"\"\"\n",
    "    output = None\n",
    "    for i in range(1, n):\n",
    "        try:\n",
    "            task.start()\n",
    "            break\n",
    "        except Exception as e:\n",
    "            time.sleep(i ** 2)\n",
    "    return task"
   ]
  },
  {
   "cell_type": "code",
   "execution_count": 5,
   "metadata": {},
   "outputs": [],
   "source": [
    "\n",
    "# # DEADBEEF\n",
    "# image_names = ['LC08_L2TP_035035_20170615_20170701', 'LC08_L2TP_035035_20170701_20170717', 'LE07_L2TP_035035_20170709_20170804',\n",
    "#                'LC08_L2TP_035035_20180602_20180615', 'LC08_L2TP_035035_20180618_20180704', 'LE07_L2TP_035035_20180728_20180824', \n",
    "#                'LE07_L2TP_035035_20190613_20190710', 'LC08_L2TP_035035_20190621_20190706', 'LC08_L2TP_035035_20190824_20190903']\n",
    "# image_paths = []\n",
    "# for img in image_names:\n",
    "#     img_lst = img.split('_')\n",
    "#     root = 'LANDSAT/{}/C01/T1_TOA'.format(img_lst[0])\n",
    "#     img_name = f'{img_lst[0]}_{img_lst[2]}_{img_lst[3]}'\n",
    "#     img_path = f'{root}/{img_name}'\n",
    "#     image_paths.append(img_path)\n",
    "\n",
    "# alabama: LC08_020037_20150124, Alpharetta: LC08_019036_20150101, WV: LE07_019034_20150109, Jonesboro: LE07_023035_20150105\n",
    "# TODO: add the ingest date on here somehow.\n",
    "image_names = ['LC08_L2TP_020037_20150124', 'LC08_L2TP_019036_20150101','LE07_L2TP_019034_20150109', 'LE07_L2TP_023035_20150105']\n",
    "image_paths = []\n",
    "for img in image_names:\n",
    "    img_lst = img.split('_')\n",
    "    root = 'LANDSAT/{}/C01/T1_TOA'.format(img_lst[0])\n",
    "    img_name = f'{img_lst[0]}_{img_lst[2]}_{img_lst[3]}'\n",
    "    img_path = f'{root}/{img_name}'\n",
    "    image_paths.append(img_path)\n"
   ]
  },
  {
   "cell_type": "code",
   "execution_count": 6,
   "metadata": {},
   "outputs": [
    {
     "name": "stdout",
     "output_type": "stream",
     "text": [
      "['LANDSAT/LC08/C01/T1_TOA/LC08_020037_20150124', 'LANDSAT/LC08/C01/T1_TOA/LC08_019036_20150101', 'LANDSAT/LE07/C01/T1_TOA/LE07_019034_20150109', 'LANDSAT/LE07/C01/T1_TOA/LE07_023035_20150105']\n"
     ]
    }
   ],
   "source": [
    "print(image_paths)"
   ]
  },
  {
   "cell_type": "code",
   "execution_count": 7,
   "metadata": {},
   "outputs": [
    {
     "name": "stdout",
     "output_type": "stream",
     "text": [
      "doing LC08_L2TP_020037_20150124\n"
     ]
    },
    {
     "ename": "AttributeError",
     "evalue": "'NoneType' object has no attribute 'projection'",
     "output_type": "error",
     "traceback": [
      "\u001b[1;31m---------------------------------------------------------------------------\u001b[0m",
      "\u001b[1;31mAttributeError\u001b[0m                            Traceback (most recent call last)",
      "\u001b[1;32m<ipython-input-7-9f35a6f97351>\u001b[0m in \u001b[0;36m<module>\u001b[1;34m\u001b[0m\n\u001b[0;32m      9\u001b[0m     \u001b[0mlandsat_dt\u001b[0m \u001b[1;33m=\u001b[0m \u001b[0mee\u001b[0m\u001b[1;33m.\u001b[0m\u001b[0mDate\u001b[0m\u001b[1;33m(\u001b[0m\u001b[0mlandsat_img\u001b[0m\u001b[1;33m.\u001b[0m\u001b[0mget\u001b[0m\u001b[1;33m(\u001b[0m\u001b[1;34m'system:time_start'\u001b[0m\u001b[1;33m)\u001b[0m\u001b[1;33m)\u001b[0m\u001b[1;33m\u001b[0m\u001b[1;33m\u001b[0m\u001b[0m\n\u001b[0;32m     10\u001b[0m     \u001b[1;31m# Build the SSEBop object from the Landsat image\u001b[0m\u001b[1;33m\u001b[0m\u001b[1;33m\u001b[0m\u001b[1;33m\u001b[0m\u001b[0m\n\u001b[1;32m---> 11\u001b[1;33m     \u001b[0mtest\u001b[0m \u001b[1;33m=\u001b[0m \u001b[0mlocal_model\u001b[0m\u001b[1;33m.\u001b[0m\u001b[0mImage\u001b[0m\u001b[1;33m(\u001b[0m\u001b[1;32mNone\u001b[0m\u001b[1;33m)\u001b[0m\u001b[1;33m\u001b[0m\u001b[1;33m\u001b[0m\u001b[0m\n\u001b[0m\u001b[0;32m     12\u001b[0m     \u001b[0mprint\u001b[0m\u001b[1;33m(\u001b[0m\u001b[0mtest\u001b[0m\u001b[1;33m.\u001b[0m\u001b[0msalutations\u001b[0m\u001b[1;33m)\u001b[0m\u001b[1;33m\u001b[0m\u001b[1;33m\u001b[0m\u001b[0m\n\u001b[0;32m     13\u001b[0m     model_obj = local_model.Image.from_landsat_c1_toa(\n",
      "\u001b[1;32mC:\\ProgramData\\Anaconda3\\envs\\eeapi\\lib\\site-packages\\openet\\ssebop\\image.py\u001b[0m in \u001b[0;36m__init__\u001b[1;34m(self, image, et_reference_source, et_reference_band, et_reference_factor, et_reference_resample, dt_source, elev_source, tcorr_source, tmax_source, elr_flag, dt_min, dt_max, et_fraction_type, **kwargs)\u001b[0m\n\u001b[0;32m    188\u001b[0m \u001b[1;33m\u001b[0m\u001b[0m\n\u001b[0;32m    189\u001b[0m         \u001b[1;31m# Image projection and geotransform\u001b[0m\u001b[1;33m\u001b[0m\u001b[1;33m\u001b[0m\u001b[1;33m\u001b[0m\u001b[0m\n\u001b[1;32m--> 190\u001b[1;33m         \u001b[0mself\u001b[0m\u001b[1;33m.\u001b[0m\u001b[0mcrs\u001b[0m \u001b[1;33m=\u001b[0m \u001b[0mimage\u001b[0m\u001b[1;33m.\u001b[0m\u001b[0mprojection\u001b[0m\u001b[1;33m(\u001b[0m\u001b[1;33m)\u001b[0m\u001b[1;33m.\u001b[0m\u001b[0mcrs\u001b[0m\u001b[1;33m(\u001b[0m\u001b[1;33m)\u001b[0m\u001b[1;33m\u001b[0m\u001b[1;33m\u001b[0m\u001b[0m\n\u001b[0m\u001b[0;32m    191\u001b[0m         self.transform = ee.List(ee.Dictionary(\n\u001b[0;32m    192\u001b[0m             ee.Algorithms.Describe(image.projection())).get('transform'))\n",
      "\u001b[1;31mAttributeError\u001b[0m: 'NoneType' object has no attribute 'projection'"
     ]
    }
   ],
   "source": [
    "\n",
    "# TODO - FIXXXXX\n",
    "\n",
    "for n, p in zip(image_names, image_paths):\n",
    "    # landsat images\n",
    "    print(f'doing {n}')\n",
    "    landsat_img = ee.Image(p)\n",
    "    landsat_crs = landsat_img.select('B3').projection().getInfo()['crs']\n",
    "    landsat_region = landsat_img.geometry().bounds(1, 'EPSG:4326')\n",
    "    landsat_dt = ee.Date(landsat_img.get('system:time_start'))\n",
    "    # Build the SSEBop object from the Landsat image\n",
    "    test = local_model.Image(None)\n",
    "    print(test.salutations)\n",
    "    model_obj = local_model.Image.from_landsat_c1_toa(\n",
    "        landsat_img,\n",
    "        et_reference_source='IDAHO_EPSCOR/GRIDMET', \n",
    "        et_reference_band='etr', \n",
    "        et_reference_factor=0.85,\n",
    "        et_reference_resample='nearest',\n",
    "        tcorr_source='GRIDDED',\n",
    "    )\n",
    "    # Initiate the Lazy Attributes\n",
    "    tcorr = model_obj.tcorr_gridded\n",
    "    ETf = model_obj.et_fraction\n",
    "    \n",
    "    attempt = 'I'\n",
    "    level = n\n",
    "    \n",
    "    change = 'ColdPixelCountAndKernelShape'\n",
    "#     change = 'ColdPixelCount'\n",
    "#     change = 'Original'\n",
    "    name_root = f'{level}_vers{attempt}_changed{change}'\n",
    "    tcorr_name =  f'tcorr_{name_root}'\n",
    "    etf_name = f'etf_{name_root}'\n",
    "    eta_name = f'eta_{name_root}'\n",
    "    \n",
    "    task = ee.batch.Export.image.toAsset(image=tcorr , description=tcorr_name, assetId=f'users/gbrlparrish/gridCv4Dev/{tcorr_name}', region=landsat_region)\n",
    "#     task = ee.batch.Export.image.toDrive(image=tcorr,  description=tcorr_name, region=landsat_region)\n",
    "    # start the tasktest\n",
    "    print('starting tcorr export')\n",
    "    ee_task_start(task=task)\n",
    "    print('task submitted')\n",
    "    task = ee.batch.Export.image.toAsset(image=ETf, description=etf_name, assetId=f'users/gbrlparrish/gridCv4Dev/{etf_name}', region=landsat_region)\n",
    "#     task = ee.batch.Export.image.toDrive(image=ETf,  description=etf_name, region=landsat_region)\n",
    "    \n",
    "    # start the task\n",
    "    print('starting ETf export')\n",
    "    ee_task_start(task=task)\n",
    "    print('task submitted')"
   ]
  },
  {
   "cell_type": "code",
   "execution_count": null,
   "metadata": {},
   "outputs": [],
   "source": [
    "\n",
    "# # matching ETo image\n",
    "# eto_img = ee.Image('projects/usgs-ssebop/pet/gridmet_median_v1/doy196')\n"
   ]
  },
  {
   "cell_type": "code",
   "execution_count": null,
   "metadata": {},
   "outputs": [],
   "source": [
    "# ndvi_image = model_obj.ndvi\n",
    "# print(ndvi_image.getInfo())"
   ]
  },
  {
   "cell_type": "code",
   "execution_count": null,
   "metadata": {},
   "outputs": [],
   "source": [
    "# # === USER ====\n",
    "# attempt = 'I'\n",
    "# level = 'GS_Alg'\n",
    "# name_root = f'rn{level}_vers{attempt}'\n",
    "\n",
    "# tcorr_name =  f'a_test_tcorr_{name_root}'\n",
    "# etf_name = f'a_test_etf_{name_root}'\n",
    "# eta_name = f'a_test_eta_{name_root}'"
   ]
  },
  {
   "cell_type": "code",
   "execution_count": null,
   "metadata": {},
   "outputs": [],
   "source": []
  },
  {
   "cell_type": "code",
   "execution_count": null,
   "metadata": {},
   "outputs": [],
   "source": []
  },
  {
   "cell_type": "code",
   "execution_count": null,
   "metadata": {},
   "outputs": [],
   "source": [
    "# # try to export and see if the image looks like expected.\n",
    "# # task = ee.batch.Export.image.toDrive(image=tcorr_image, description='CFact_TestGTE', region=landsat_region)\n",
    "# task = ee.batch.Export.image.toAsset(image=tcorr , description=tcorr_name, assetId=f'users/gbrlparrish/gridCForMattS/{tcorr_name}', region=landsat_region)\n",
    "# # start the tasktest\n",
    "# print('starting')\n",
    "# ee_task_start(task=task)\n",
    "# print('task submitted')\n",
    "# # task2 = ee.batch.Export.image.toAsset(image= tcorr_rn02_hot_testI, description='tcorr_rn02_hot_testI', assetId='users/gbrlparrish/griddedC/tcorr_rn02_hot_testI', region=landsat_region)\n",
    "# # # start the task\n",
    "# # print('starting task 2')\n",
    "# # ee_task_start(task=task2)\n",
    "# # print('task 2 submitted')\n",
    "# # # # "
   ]
  },
  {
   "cell_type": "code",
   "execution_count": null,
   "metadata": {},
   "outputs": [],
   "source": [
    "# ETf = model_obj.et_fraction\n",
    "# # make ETa by multiplying by gridmet ETo v1\n",
    "# ETa = ETf.multiply(eto_img)"
   ]
  },
  {
   "cell_type": "code",
   "execution_count": null,
   "metadata": {
    "scrolled": true
   },
   "outputs": [],
   "source": [
    "# # try to export EToF (Doesn't work. Error is \"Error: Too many input pixels per output pixel. Need 27778, but only 64 allowed.\" Like Whaaaaat)\n",
    "# task = ee.batch.Export.image.toAsset(image=ETf, description=etf_name, assetId=f'users/gbrlparrish/griddedC/{etf_name}', region=landsat_region)\n",
    "# # start the task\n",
    "# print('starting')\n",
    "# ee_task_start(task=task)\n",
    "# print('task submitted')\n",
    "# # ============================\n",
    "# task = ee.batch.Export.image.toAsset(image=ETa, description=eta_name, assetId=f'users/gbrlparrish/griddedC/{eta_name}', region=landsat_region)\n",
    "# # start the task\n",
    "# print('starting')\n",
    "# ee_task_start(task=task)\n",
    "# print('task submitted')\n",
    "\n",
    "# # # TODO - export as asset and then display in the notebook.\n",
    "# # # # # =========================================================================\n",
    "# # # # # Try to show EToF and it also doesn't work\n",
    "# # # image_url = model_obj.et_fraction\\\n",
    "# # #     .getThumbURL({'min': 0, 'max': 1.2, 'palette': et_palette, \n",
    "# # #                   'region': landsat_region, 'dimensions': image_size})\n",
    "# # # Image(image_url, embed=True, format='png')"
   ]
  },
  {
   "cell_type": "code",
   "execution_count": null,
   "metadata": {},
   "outputs": [],
   "source": []
  },
  {
   "cell_type": "code",
   "execution_count": null,
   "metadata": {},
   "outputs": [],
   "source": []
  }
 ],
 "metadata": {
  "kernelspec": {
   "display_name": "Python 3",
   "language": "python",
   "name": "python3"
  },
  "language_info": {
   "codemirror_mode": {
    "name": "ipython",
    "version": 3
   },
   "file_extension": ".py",
   "mimetype": "text/x-python",
   "name": "python",
   "nbconvert_exporter": "python",
   "pygments_lexer": "ipython3",
   "version": "3.8.2"
  }
 },
 "nbformat": 4,
 "nbformat_minor": 4
}
